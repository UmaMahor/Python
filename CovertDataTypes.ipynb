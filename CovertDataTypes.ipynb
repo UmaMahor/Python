{
 "cells": [
  {
   "cell_type": "markdown",
   "id": "308e7232-eeda-4dd7-b5d6-0688f872b24d",
   "metadata": {},
   "source": [
    "# Converting Data Types"
   ]
  },
  {
   "cell_type": "code",
   "execution_count": 1,
   "id": "e2e3e7a8-9822-4e9c-8639-4271dcf89eba",
   "metadata": {},
   "outputs": [],
   "source": [
    "num= 7"
   ]
  },
  {
   "cell_type": "code",
   "execution_count": 2,
   "id": "6b6f3501-035a-4625-8610-784914d9dfcc",
   "metadata": {},
   "outputs": [
    {
     "data": {
      "text/plain": [
       "int"
      ]
     },
     "execution_count": 2,
     "metadata": {},
     "output_type": "execute_result"
    }
   ],
   "source": [
    "type(num)"
   ]
  },
  {
   "cell_type": "code",
   "execution_count": 12,
   "id": "dc99e0f6-68eb-40b1-9936-eba0cc8091ad",
   "metadata": {},
   "outputs": [],
   "source": [
    "new_num = 'num'"
   ]
  },
  {
   "cell_type": "code",
   "execution_count": 13,
   "id": "5e3524b9-9d09-4dd7-85c1-45b164dc16b2",
   "metadata": {},
   "outputs": [
    {
     "data": {
      "text/plain": [
       "str"
      ]
     },
     "execution_count": 13,
     "metadata": {},
     "output_type": "execute_result"
    }
   ],
   "source": [
    "type(new_num)"
   ]
  },
  {
   "cell_type": "code",
   "execution_count": 15,
   "id": "1322331a-bd47-4a60-a082-316bddf55555",
   "metadata": {},
   "outputs": [
    {
     "data": {
      "text/plain": [
       "list"
      ]
     },
     "execution_count": 15,
     "metadata": {},
     "output_type": "execute_result"
    }
   ],
   "source": [
    "list_type = [1,2,3]\n",
    "\n",
    "type(list_type)"
   ]
  },
  {
   "cell_type": "code",
   "execution_count": 16,
   "id": "18a29e59-c3ac-4afe-9964-0c97e642bacc",
   "metadata": {},
   "outputs": [
    {
     "data": {
      "text/plain": [
       "(1, 2, 3)"
      ]
     },
     "execution_count": 16,
     "metadata": {},
     "output_type": "execute_result"
    }
   ],
   "source": [
    "tuple(list_type)"
   ]
  },
  {
   "cell_type": "code",
   "execution_count": 18,
   "id": "eda22bb6-baa7-4622-9608-896a78c9298c",
   "metadata": {},
   "outputs": [
    {
     "data": {
      "text/plain": [
       "{' ', 'I', 'a', 'e', 'i', 'k', 'l', 'o', 'p', 'r', 't', 'y'}"
      ]
     },
     "execution_count": 18,
     "metadata": {},
     "output_type": "execute_result"
    }
   ],
   "source": [
    "long_str = \"I like to party\"\n",
    "\n",
    "set(long_str)"
   ]
  },
  {
   "cell_type": "code",
   "execution_count": null,
   "id": "3d950a08-d91b-4b82-83bb-cbc4eb275f86",
   "metadata": {},
   "outputs": [],
   "source": []
  }
 ],
 "metadata": {
  "kernelspec": {
   "display_name": "Python 3 (ipykernel)",
   "language": "python",
   "name": "python3"
  },
  "language_info": {
   "codemirror_mode": {
    "name": "ipython",
    "version": 3
   },
   "file_extension": ".py",
   "mimetype": "text/x-python",
   "name": "python",
   "nbconvert_exporter": "python",
   "pygments_lexer": "ipython3",
   "version": "3.12.7"
  }
 },
 "nbformat": 4,
 "nbformat_minor": 5
}
