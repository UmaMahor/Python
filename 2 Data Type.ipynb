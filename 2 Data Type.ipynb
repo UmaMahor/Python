{
 "cells": [
  {
   "cell_type": "markdown",
   "id": "02d44217-4570-4b36-a326-44d2ccc4f318",
   "metadata": {},
   "source": [
    "## Data Types"
   ]
  },
  {
   "cell_type": "markdown",
   "id": "57190a6a-71ad-494a-84cd-28532be11315",
   "metadata": {},
   "source": [
    "#### Numeric- Integer, Float,Complex"
   ]
  },
  {
   "cell_type": "code",
   "execution_count": 1,
   "id": "a6cf33dc-bf03-4c07-8c9c-a0c080476fe5",
   "metadata": {},
   "outputs": [
    {
     "data": {
      "text/plain": [
       "int"
      ]
     },
     "execution_count": 1,
     "metadata": {},
     "output_type": "execute_result"
    }
   ],
   "source": [
    "type(12)"
   ]
  },
  {
   "cell_type": "code",
   "execution_count": 2,
   "id": "be07c19a-11d4-4af1-916a-eb05a02f6d8b",
   "metadata": {},
   "outputs": [
    {
     "data": {
      "text/plain": [
       "float"
      ]
     },
     "execution_count": 2,
     "metadata": {},
     "output_type": "execute_result"
    }
   ],
   "source": [
    "type(1+ 1.5)"
   ]
  },
  {
   "cell_type": "code",
   "execution_count": 3,
   "id": "10296d01-1f97-47fc-b671-057ab6651212",
   "metadata": {},
   "outputs": [
    {
     "data": {
      "text/plain": [
       "complex"
      ]
     },
     "execution_count": 3,
     "metadata": {},
     "output_type": "execute_result"
    }
   ],
   "source": [
    "type( 1+2j)"
   ]
  },
  {
   "cell_type": "markdown",
   "id": "a79b945a-4d62-4cd1-b7dc-c0930f16daac",
   "metadata": {},
   "source": [
    "#### Booleans represent one of two values: True or False."
   ]
  },
  {
   "cell_type": "code",
   "execution_count": 4,
   "id": "76747649-0b57-40aa-b6e4-395e6e50dce3",
   "metadata": {},
   "outputs": [
    {
     "name": "stdout",
     "output_type": "stream",
     "text": [
      "True\n",
      "False\n",
      "False\n"
     ]
    }
   ],
   "source": [
    "print(10 > 9)\n",
    "print(10 == 9)\n",
    "print(10 < 9)"
   ]
  },
  {
   "cell_type": "markdown",
   "id": "c3a430a0-ba13-4d65-be87-33734d5a27a6",
   "metadata": {},
   "source": [
    "#### Strings - Single quote, Double quote, Multi quote"
   ]
  },
  {
   "cell_type": "code",
   "execution_count": 4,
   "id": "e0bd34b4-a47b-4f37-a7c3-e5ed07a8abd2",
   "metadata": {},
   "outputs": [
    {
     "name": "stdout",
     "output_type": "stream",
     "text": [
      "Uma\n"
     ]
    }
   ],
   "source": [
    "print('Uma')\n"
   ]
  },
  {
   "cell_type": "code",
   "execution_count": 5,
   "id": "edf85fdb-625a-4843-9f91-f68a47b1b716",
   "metadata": {},
   "outputs": [
    {
     "name": "stdout",
     "output_type": "stream",
     "text": [
      "I'am Uma\n"
     ]
    }
   ],
   "source": [
    " print(\"I'am Uma\")"
   ]
  },
  {
   "cell_type": "code",
   "execution_count": 12,
   "id": "21cdce5e-7bfa-4347-9d3c-7c724c3f01d1",
   "metadata": {},
   "outputs": [
    {
     "name": "stdout",
     "output_type": "stream",
     "text": [
      "Name- Uma\n",
      "Position -Lead analyst \n",
      "Location -Toronto\n"
     ]
    }
   ],
   "source": [
    "print(\"\"\"Name- Uma\n",
    "Position -Lead analyst \n",
    "Location -Toronto\"\"\")"
   ]
  },
  {
   "cell_type": "markdown",
   "id": "c1a4a12c-79f4-4c16-9793-715ceece53d5",
   "metadata": {},
   "source": [
    "#### 4 built-in data types in Python : List, Tuples,Set,Dictionary"
   ]
  },
  {
   "cell_type": "markdown",
   "id": "3ba9c444-b76d-4087-8378-1a391bd6efa8",
   "metadata": {},
   "source": [
    "# List - square brackets: [ ]"
   ]
  },
  {
   "cell_type": "markdown",
   "id": "f2e336be-aedc-4dee-bf53-c31be88d383b",
   "metadata": {},
   "source": [
    "##### 1.Lists are used to store multiple items in a single variable.\n",
    "##### 2.List items are ordered, changeable, and allow duplicate values.\n",
    "##### 3.List items are indexed, the first item has index [0], the second item has index [1]"
   ]
  },
  {
   "cell_type": "code",
   "execution_count": 15,
   "id": "424184fb-3297-4f78-9615-2b8f11511ddb",
   "metadata": {},
   "outputs": [
    {
     "name": "stdout",
     "output_type": "stream",
     "text": [
      "['Cookie Dough', 'Strawberry', 'Chocolate']\n"
     ]
    }
   ],
   "source": [
    "ice_cream = ['Cookie Dough','Strawberry','Chocolate']\n",
    "print(ice_cream)"
   ]
  },
  {
   "cell_type": "code",
   "execution_count": null,
   "id": "6d7cfb6b-0fdd-44e9-888f-0c871f8b11e4",
   "metadata": {},
   "outputs": [],
   "source": [
    "# List items are ordered, changeable, and allow duplicate values.\n",
    "\n",
    "List items are indexed, the first item has index [0], the second item has index [1] etc."
   ]
  },
  {
   "cell_type": "code",
   "execution_count": 16,
   "id": "8b828ce3-b9d7-442b-8c7a-4e9995532f3e",
   "metadata": {},
   "outputs": [
    {
     "data": {
      "text/plain": [
       "['Cookie Dough', 'Strawberry', 'Chocolate', 'Salted Caramel']"
      ]
     },
     "execution_count": 16,
     "metadata": {},
     "output_type": "execute_result"
    }
   ],
   "source": [
    "ice_cream = ['Cookie Dough','Strawberry','Chocolate']\n",
    "\n",
    "ice_cream.append('Salted Caramel')\n",
    "\n",
    "ice_cream"
   ]
  },
  {
   "cell_type": "code",
   "execution_count": 17,
   "id": "d33d67a4-0402-4676-b571-2e1ccee165cb",
   "metadata": {},
   "outputs": [
    {
     "data": {
      "text/plain": [
       "['Butter Pecan', 'Strawberry', 'Chocolate', 'Salted Caramel']"
      ]
     },
     "execution_count": 17,
     "metadata": {},
     "output_type": "execute_result"
    }
   ],
   "source": [
    "ice_cream[0] = 'Butter Pecan'\n",
    "\n",
    "ice_cream"
   ]
  },
  {
   "cell_type": "markdown",
   "id": "0ac409bc-0f1f-4e89-bcc6-0fd2f69fed73",
   "metadata": {},
   "source": [
    "# Tuples- Round brackets()"
   ]
  },
  {
   "cell_type": "markdown",
   "id": "6e7ebbc7-cd68-4a4d-94bb-fd71a72169e1",
   "metadata": {},
   "source": [
    "##### Tuples are used to store multiple items in a single variable.\n",
    "##### Tuple items are ordered, unchangeable, and allow duplicate values.\n",
    "##### Tuples are unchangeable, meaning that we cannot change, add or remove items after the tuple has been created.\n",
    "##### Tuple items are indexed, the first item has index [0], the second item has index [1]"
   ]
  },
  {
   "cell_type": "code",
   "execution_count": 19,
   "id": "64b2a417-6ec0-49c5-9abe-5963398de71a",
   "metadata": {},
   "outputs": [],
   "source": [
    "tuple_scoops = (1,2,3,2,1)"
   ]
  },
  {
   "cell_type": "code",
   "execution_count": 20,
   "id": "c37912f4-fb40-4eb7-a122-f8dc2e857978",
   "metadata": {},
   "outputs": [
    {
     "data": {
      "text/plain": [
       "1"
      ]
     },
     "execution_count": 20,
     "metadata": {},
     "output_type": "execute_result"
    }
   ],
   "source": [
    "tuple_scoops[0]\n"
   ]
  },
  {
   "cell_type": "markdown",
   "id": "1f088d19-72ee-426d-adc8-fa0f03f3b8cb",
   "metadata": {},
   "source": [
    "# Sets- Curly brackets {}"
   ]
  },
  {
   "cell_type": "markdown",
   "id": "130354ef-22aa-4b6e-b470-c8569e11df9f",
   "metadata": {},
   "source": [
    "##### Sets are used to store multiple items in a single variable.\n",
    "##### A set is a collection which is unordered, unchangeable*,unindexed and do not allow duplicate values.\n",
    "##### Set items are unchangeable, but you can remove items and add new items.\n",
    "\n"
   ]
  },
  {
   "cell_type": "code",
   "execution_count": 27,
   "id": "dcc1383e-4a5d-413c-8d23-3c29aabbd3d9",
   "metadata": {},
   "outputs": [
    {
     "name": "stdout",
     "output_type": "stream",
     "text": [
      "{1, 2, 3, 4, 5, 6, 31}\n"
     ]
    }
   ],
   "source": [
    "set_a = {1,2,31,2,3,4,1,2,5,6,3,2}\n",
    "\n",
    "print(set_a)"
   ]
  },
  {
   "cell_type": "code",
   "execution_count": 28,
   "id": "fbe6a7ea-982d-4bc3-98aa-ae946256620f",
   "metadata": {},
   "outputs": [
    {
     "name": "stdout",
     "output_type": "stream",
     "text": [
      "{0, 1, 2, 3, 5, 7, 24}\n"
     ]
    }
   ],
   "source": [
    "set_b = {1,3,5,7,3,24,5,7,3,2,0}\n",
    "print(set_b)"
   ]
  },
  {
   "cell_type": "markdown",
   "id": "f0c7098f-e37e-4899-ab65-8271ec6a7405",
   "metadata": {},
   "source": [
    "#### All values"
   ]
  },
  {
   "cell_type": "code",
   "execution_count": 29,
   "id": "8747e910-35de-492a-9ff4-c049934254bf",
   "metadata": {},
   "outputs": [
    {
     "name": "stdout",
     "output_type": "stream",
     "text": [
      "{0, 1, 2, 3, 4, 5, 6, 7, 24, 31}\n"
     ]
    }
   ],
   "source": [
    "print( set_a | set_b)"
   ]
  },
  {
   "cell_type": "markdown",
   "id": "638cc6cf-9370-420c-98a1-2bf8d64eb36d",
   "metadata": {},
   "source": [
    "#### Common values"
   ]
  },
  {
   "cell_type": "code",
   "execution_count": 30,
   "id": "22ee357c-ff70-4b40-b039-228ce0def5c5",
   "metadata": {},
   "outputs": [
    {
     "name": "stdout",
     "output_type": "stream",
     "text": [
      "{1, 2, 3, 5}\n"
     ]
    }
   ],
   "source": [
    "print( set_a & set_b)"
   ]
  },
  {
   "cell_type": "markdown",
   "id": "329fbb77-c51f-49c4-b39f-1e6bb300f9e1",
   "metadata": {},
   "source": [
    "#### Eliminate common set b values"
   ]
  },
  {
   "cell_type": "code",
   "execution_count": 31,
   "id": "2b89b4d4-8695-49f6-88dc-1ad48fd8f007",
   "metadata": {},
   "outputs": [
    {
     "name": "stdout",
     "output_type": "stream",
     "text": [
      "{4, 6, 31}\n"
     ]
    }
   ],
   "source": [
    "print( set_a - set_b)"
   ]
  },
  {
   "cell_type": "markdown",
   "id": "a9cd7cb2-1198-4e39-9b44-25131798ec5d",
   "metadata": {},
   "source": [
    "#### Either in set a or set b but not in both"
   ]
  },
  {
   "cell_type": "code",
   "execution_count": 33,
   "id": "1b0c5bd2-99c1-41d3-9e6e-6731446d13d6",
   "metadata": {},
   "outputs": [
    {
     "name": "stdout",
     "output_type": "stream",
     "text": [
      "{0, 4, 6, 7, 24, 31}\n"
     ]
    }
   ],
   "source": [
    "print( set_a ^ set_b)"
   ]
  },
  {
   "cell_type": "markdown",
   "id": "9048b307-cab9-4f0c-82f9-52086b612f9c",
   "metadata": {},
   "source": [
    "# Dictionary - Curly brackets {}"
   ]
  },
  {
   "cell_type": "markdown",
   "id": "d356de7a-82cf-4f72-8361-786fdc83c8ba",
   "metadata": {},
   "source": [
    "##### Dictionaries are used to store data values in key:value pairs.\n",
    "##### A dictionary is a collection which is ordered*, changeable and do not allow duplicates.\n"
   ]
  },
  {
   "cell_type": "code",
   "execution_count": 37,
   "id": "7cc669ec-4b4f-44f6-beb4-4cb62157337a",
   "metadata": {},
   "outputs": [
    {
     "name": "stdout",
     "output_type": "stream",
     "text": [
      "{'name': 'Alex Freberg', 'weekly intake': 5, 'favorite ice creams': ['MCC', 'Chocolate']}\n"
     ]
    }
   ],
   "source": [
    "dict_cream = {'name': 'Alex Freberg', 'weekly intake': 5, 'favorite ice creams': ['MCC','Chocolate']}\n",
    "print(dict_cream)"
   ]
  },
  {
   "cell_type": "code",
   "execution_count": 39,
   "id": "bef00437-435e-42c0-be83-f29e42f0cac8",
   "metadata": {},
   "outputs": [
    {
     "data": {
      "text/plain": [
       "dict_values(['Alex Freberg', 5, ['MCC', 'Chocolate']])"
      ]
     },
     "execution_count": 39,
     "metadata": {},
     "output_type": "execute_result"
    }
   ],
   "source": [
    "dict_cream.values()"
   ]
  },
  {
   "cell_type": "code",
   "execution_count": 40,
   "id": "87b19506-7386-4018-80b7-ad62948ba939",
   "metadata": {},
   "outputs": [
    {
     "data": {
      "text/plain": [
       "dict_keys(['name', 'weekly intake', 'favorite ice creams'])"
      ]
     },
     "execution_count": 40,
     "metadata": {},
     "output_type": "execute_result"
    }
   ],
   "source": [
    "dict_cream.keys()"
   ]
  },
  {
   "cell_type": "code",
   "execution_count": null,
   "id": "fabefa16-ec8f-4fa2-ba60-217709d1f206",
   "metadata": {},
   "outputs": [],
   "source": []
  }
 ],
 "metadata": {
  "kernelspec": {
   "display_name": "Python 3 (ipykernel)",
   "language": "python",
   "name": "python3"
  },
  "language_info": {
   "codemirror_mode": {
    "name": "ipython",
    "version": 3
   },
   "file_extension": ".py",
   "mimetype": "text/x-python",
   "name": "python",
   "nbconvert_exporter": "python",
   "pygments_lexer": "ipython3",
   "version": "3.12.7"
  }
 },
 "nbformat": 4,
 "nbformat_minor": 5
}
